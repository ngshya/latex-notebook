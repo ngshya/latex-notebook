{
 "cells": [
  {
   "cell_type": "markdown",
   "metadata": {},
   "source": [
    "This is a math formula rendered in Jupyter Notebook:\n",
    "\n",
    "$$(\\cos x + \\sin x)^2 =\n",
    "    \\underbrace{\\cos^2 x + \\sin^2 x}_{1} +\n",
    "    \\overbrace{2 \\sin x \\cos x}^{\\sin 2x}$$"
   ]
  }
 ],
 "metadata": {
  "kernelspec": {
   "display_name": "Python 3",
   "language": "python",
   "name": "python3"
  },
  "language_info": {
   "codemirror_mode": {
    "name": "ipython",
    "version": 3
   },
   "file_extension": ".py",
   "mimetype": "text/x-python",
   "name": "python",
   "nbconvert_exporter": "python",
   "pygments_lexer": "ipython3",
   "version": "3.6.10"
  }
 },
 "nbformat": 4,
 "nbformat_minor": 4
}
